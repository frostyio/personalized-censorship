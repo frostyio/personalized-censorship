{
 "cells": [
  {
   "cell_type": "markdown",
   "id": "d8cd5602-9b13-46e9-b6da-ad314a8753ee",
   "metadata": {},
   "source": [
    "# Setup"
   ]
  },
  {
   "cell_type": "code",
   "execution_count": null,
   "id": "d21a3f63-43bd-4ad3-8a75-92dd93373044",
   "metadata": {},
   "outputs": [],
   "source": [
    "%load_ext autoreload\n",
    "%autoreload 2\n",
    "\n",
    "import sys \n",
    "import os\n",
    "import torch\n",
    "import numpy as np\n",
    "sys.path.append(os.path.abspath(os.path.join(os.getcwd(), \"..\")))"
   ]
  },
  {
   "cell_type": "code",
   "execution_count": null,
   "id": "36f94f71-2663-43c7-b688-faf3fadb465c",
   "metadata": {},
   "outputs": [],
   "source": [
    "device = torch.device(\"cuda\" if torch.cuda.is_available() else \"cpu\")\n",
    "print(f\"device: {device}\")"
   ]
  },
  {
   "cell_type": "code",
   "execution_count": null,
   "id": "7d1946eb-a2b2-47f8-b49b-f69e06b853ca",
   "metadata": {},
   "outputs": [],
   "source": [
    "current_save_model_path = \"../models/A\"\n",
    "current_load_model_path = \"../models/B\""
   ]
  },
  {
   "cell_type": "markdown",
   "id": "f315a28e-a713-420f-972e-e6f9eb7c6824",
   "metadata": {},
   "source": [
    "# Loading Jigsaw Dataset & Fine Tuning BERT"
   ]
  },
  {
   "cell_type": "code",
   "execution_count": null,
   "id": "cb577947-ef47-4e04-9cbe-8d9cff294eec",
   "metadata": {},
   "outputs": [],
   "source": [
    "from transformers import BertForSequenceClassification, BertTokenizer, DistilBertTokenizer, DistilBertForSequenceClassification\n",
    "bert_fn = DistilBertForSequenceClassification\n",
    "tokenizer_fn = DistilBertTokenizer\n",
    "model_name = \"distilbert-base-uncased\""
   ]
  },
  {
   "cell_type": "markdown",
   "id": "079147ab-d1d1-49d2-8d9c-69d62b5d0f19",
   "metadata": {},
   "source": [
    "## Load Pre-trained Fine-Tuned BERT"
   ]
  },
  {
   "cell_type": "code",
   "execution_count": null,
   "id": "4b11116a-c1a2-4f86-aad4-7c436502452a",
   "metadata": {},
   "outputs": [],
   "source": [
    "from bert import FinetunedBert\n",
    "finetuned_bert = FinetunedBert(model_name=model_name, device=device, bert_fn=bert_fn, tokenizer_fn=tokenizer_fn)\n",
    "tokenizer = finetuned_bert.load(path=current_load_model_path+\"_bert\")\n",
    "finetuned_bert_model = finetuned_bert.model"
   ]
  },
  {
   "cell_type": "markdown",
   "id": "012a20ab-7d7e-4d4c-8e93-168bceb02bc9",
   "metadata": {},
   "source": [
    "## Train a new BERT"
   ]
  },
  {
   "cell_type": "code",
   "execution_count": null,
   "id": "44dc0417-c1d1-4e7f-8f3d-56cf19c98a06",
   "metadata": {},
   "outputs": [],
   "source": [
    "tokenizer = tokenizer_fn.from_pretrained(model_name, num_labels=2, ignore_mismatched_sizes=True)"
   ]
  },
  {
   "cell_type": "code",
   "execution_count": null,
   "id": "24907ad8-a956-4f64-8534-e5eadc7fb599",
   "metadata": {},
   "outputs": [],
   "source": [
    "from datasets.jigsaw import GetDataLoader, GetTestDataLoader\n",
    "\n",
    "jigsaw_train_dataloader, total_length = GetDataLoader(tokenizer, device=device, n=5000)\n",
    "jigsaw_test_dataloader, total_length_2 = GetTestDataLoader(tokenizer, device=device, n=100)\n",
    "\n",
    "print(f\"train dataset length: {total_length}\\ntest dataset length: {total_length_2}\")"
   ]
  },
  {
   "cell_type": "code",
   "execution_count": null,
   "id": "655ca57a-c6e0-463f-993c-49d68d65d571",
   "metadata": {},
   "outputs": [],
   "source": [
    "from bert import FinetunedBert\n",
    "finetuned_bert = FinetunedBert(model_name=model_name, lr=0.00005, device=device, bert_fn=bert_fn, tokenizer_fn=tokenizer_fn)"
   ]
  },
  {
   "cell_type": "code",
   "execution_count": null,
   "id": "113324f5-d16a-49e6-8019-440dbdb9eb46",
   "metadata": {},
   "outputs": [],
   "source": [
    "finetuned_bert.train(jigsaw_train_dataloader, epochs=3)"
   ]
  },
  {
   "cell_type": "code",
   "execution_count": null,
   "id": "2977d96e-9345-4c2b-a8d1-686803979497",
   "metadata": {},
   "outputs": [],
   "source": [
    "print(f\"validation Accuracy: {finetuned_bert.accuracy(jigsaw_test_dataloader) * 100:.2f}%\")"
   ]
  },
  {
   "cell_type": "code",
   "execution_count": null,
   "id": "16156c39-2c44-4e08-96d9-49126be364ab",
   "metadata": {},
   "outputs": [],
   "source": [
    "finetuned_bert_model = finetuned_bert.model"
   ]
  },
  {
   "cell_type": "code",
   "execution_count": null,
   "id": "bc8094b7-2dea-4dd9-9674-9f18efee8ddb",
   "metadata": {},
   "outputs": [],
   "source": [
    "try:\n",
    "    del jigsaw_train_dataloader\n",
    "except:\n",
    "    pass\n",
    "try:\n",
    "    del jigsaw_test_dataloader\n",
    "except:\n",
    "    pass\n",
    "finetuned_bert.model.to(\"cpu\")\n",
    "torch.cuda.empty_cache()\n",
    "\n",
    "print(\"emptied\")"
   ]
  },
  {
   "cell_type": "markdown",
   "id": "c8e0e892-a87f-44c1-99a5-776627078464",
   "metadata": {},
   "source": [
    "# Prototypical Network"
   ]
  },
  {
   "cell_type": "code",
   "execution_count": null,
   "id": "34867454-4dd5-4f1c-b3f7-a7f553a34d7b",
   "metadata": {},
   "outputs": [],
   "source": [
    "from utils import EmbedUserInput, GetFewShotDataLoader\n",
    "from datasets.jigsaw import GetInputAndLabels, GetInputAndLabelsByClass\n",
    "\n",
    "EmbedWrapper = lambda X: EmbedUserInput(tokenizer, finetuned_bert_model, X, device=device)"
   ]
  },
  {
   "cell_type": "code",
   "execution_count": null,
   "id": "ee4459ef-ca03-4cdb-bd4f-3b8552a9a086",
   "metadata": {},
   "outputs": [],
   "source": [
    "n_way = 2 # Number of classes, we want biclassification (toxic / non-toxic)"
   ]
  },
  {
   "cell_type": "markdown",
   "id": "12634126-0f81-4968-9abb-b1d5e7a8aae5",
   "metadata": {},
   "source": [
    "## Training input"
   ]
  },
  {
   "cell_type": "code",
   "execution_count": null,
   "id": "3958c575-2424-4a6d-b750-c55fe6213ca1",
   "metadata": {},
   "outputs": [],
   "source": [
    "k_shot = 4\n",
    "q_queries = 9"
   ]
  },
  {
   "cell_type": "code",
   "execution_count": null,
   "id": "98fe409f-bd24-4477-a124-2d54e549bcb2",
   "metadata": {},
   "outputs": [],
   "source": [
    "training_inputs, training_labels, _ =  GetInputAndLabels(n=400) # GetInputAndLabels(n=400, toxicity_level=3)\n",
    "\n",
    "training_embedding = EmbedWrapper(training_inputs)\n",
    "print(training_embedding.shape, len(training_labels))\n",
    "\n",
    "training_loader = GetFewShotDataLoader(training_embedding, training_labels, n_way=n_way, k_shot=k_shot, q_queries=q_queries, device=device)\n",
    "print(\"made loader\")"
   ]
  },
  {
   "cell_type": "markdown",
   "id": "66fa8e2e-eda9-4c67-ae49-7fea718decc7",
   "metadata": {},
   "source": [
    "## Training loop"
   ]
  },
  {
   "cell_type": "code",
   "execution_count": null,
   "id": "c55785eb-5193-402a-b2cd-4262ee3d38ee",
   "metadata": {},
   "outputs": [],
   "source": [
    "from model import PrototypicalNetwork\n",
    "from solver import Solver"
   ]
  },
  {
   "cell_type": "code",
   "execution_count": null,
   "id": "c7e14181-dff1-42a1-8307-0d71583b5f05",
   "metadata": {},
   "outputs": [],
   "source": [
    "proto_net = PrototypicalNetwork()\n",
    "solver = Solver(proto_net, n_way=n_way, lr=0.0001, device=device)"
   ]
  },
  {
   "cell_type": "code",
   "execution_count": null,
   "id": "468b994f-09dd-4793-8db5-88d5db5f5cdf",
   "metadata": {},
   "outputs": [],
   "source": [
    "solver.load(path=current_load_model_path+\"_proto_net.pth\")"
   ]
  },
  {
   "cell_type": "code",
   "execution_count": null,
   "id": "028ff222-fc0c-487b-b767-e380312a7392",
   "metadata": {},
   "outputs": [],
   "source": [
    "solver.train(training_loader, n_epochs=25, output_file=\"proto_loss_0001.csv\")"
   ]
  },
  {
   "cell_type": "code",
   "execution_count": null,
   "id": "aa21ae2a-6f6c-4e01-89dd-e80d626785c6",
   "metadata": {},
   "outputs": [],
   "source": [
    "try:\n",
    "    del training_inputs\n",
    "except:\n",
    "    pass\n",
    "try:\n",
    "    del training_labels\n",
    "except:\n",
    "    pass\n",
    "torch.cuda.empty_cache()\n",
    "\n",
    "print(\"emptied\")"
   ]
  },
  {
   "cell_type": "markdown",
   "id": "31f7b0c3-4b1d-4232-87c4-ae6d9cef6da1",
   "metadata": {},
   "source": [
    "## Evaluation"
   ]
  },
  {
   "cell_type": "code",
   "execution_count": null,
   "id": "101d718b-730e-429f-9392-44b8dc64d7b8",
   "metadata": {},
   "outputs": [],
   "source": [
    "test_inputs, test_labels, _ = GetInputAndLabels(type=\"test\", n=1000)\n",
    "test_embedding = EmbedWrapper(test_inputs)\n",
    "\n",
    "k_shot_test = 50\n",
    "q_queries_test = 9\n",
    "testing_loader = GetFewShotDataLoader(test_embedding, test_labels, n_way=n_way, k_shot=k_shot_test, q_queries=q_queries_test)\n",
    "print(\"made loader\")"
   ]
  },
  {
   "cell_type": "code",
   "execution_count": null,
   "id": "72adfc70-5f46-45fa-a826-ab16feef0f2a",
   "metadata": {},
   "outputs": [],
   "source": [
    "solver.evaluate(testing_loader)"
   ]
  },
  {
   "cell_type": "code",
   "execution_count": null,
   "id": "9684a9f6-64cd-408d-9b67-50dc8b4d2a0e",
   "metadata": {},
   "outputs": [],
   "source": [
    "try:\n",
    "    del test_inputs\n",
    "    del test_embedding\n",
    "except:\n",
    "    pass\n",
    "try:\n",
    "    del test_labels\n",
    "except:\n",
    "    pass\n",
    "torch.cuda.empty_cache()"
   ]
  },
  {
   "cell_type": "markdown",
   "id": "ece4075f-3463-400b-a44f-153c8fb9993b",
   "metadata": {},
   "source": [
    "## Similarity evaluation"
   ]
  },
  {
   "cell_type": "code",
   "execution_count": null,
   "id": "f56afe01-2181-4fbe-99d7-b6cb7c9b89f8",
   "metadata": {},
   "outputs": [],
   "source": [
    "similarity_inputs = GetInputAndLabelsByClass(type=\"test\")\n",
    "n_input_per_toxic_class = 14\n",
    "non_toxic = similarity_inputs[\"non_toxic\"]\n",
    "\n",
    "k_shot_s_test = 4\n",
    "q_queries_s_test = 9\n",
    "\n",
    "for category, inputs in similarity_inputs.items():\n",
    "    if category == \"non_toxic\":\n",
    "        continue\n",
    "\n",
    "    if len(inputs) == 0:\n",
    "        print(f\"skipping category '{category}' because it has no inputs\")\n",
    "        continue\n",
    "\n",
    "    le = min(len(inputs), n_input_per_toxic_class)\n",
    "    toxic_inputs = inputs[:le]\n",
    "    if len(non_toxic) < le:\n",
    "        raise ValueError(f\"not enough non-toxic samples: needed {le}, found {len(non_toxic)}\")\n",
    "\n",
    "    combined_inputs = toxic_inputs + non_toxic[:le]\n",
    "    combined_labels = ([1] * le) + ([0] * le)\n",
    "\n",
    "    if not combined_inputs or le < k_shot_s_test + q_queries_s_test:\n",
    "        print(f\"skipping category '{category}' because combined inputs are empty or too small\")\n",
    "        continue\n",
    "    \n",
    "    inputs_embeddings = EmbedWrapper(combined_inputs)\n",
    "\n",
    "    testing_loader = GetFewShotDataLoader(\n",
    "            inputs_embeddings,\n",
    "            combined_labels,\n",
    "            n_way=n_way,\n",
    "            k_shot=k_shot_s_test,\n",
    "            q_queries=q_queries_s_test,\n",
    "        )\n",
    "\n",
    "    print(f\"made loader for {category}, length is {le}\")\n",
    "    solver.evaluate(testing_loader)\n",
    "\n",
    "del similarity_inputs"
   ]
  },
  {
   "cell_type": "markdown",
   "id": "7c709400-755e-4354-9452-56e5e55ad162",
   "metadata": {},
   "source": [
    "# User-Testing"
   ]
  },
  {
   "cell_type": "code",
   "execution_count": null,
   "id": "235b05c7-6368-4a34-8033-48f9a601d6a5",
   "metadata": {},
   "outputs": [],
   "source": [
    "support = [\"circles are bad\", \"squares are good\"]\n",
    "labels = torch.tensor([1, 0]) # 1 = offensive, 0 = not offensive\n",
    "query = [\"circles are whack\"]\n",
    "\n",
    "pred_labels = solver.predict(EmbedWrapper(support), labels, EmbedWrapper(query))\n",
    "outcome = \"sensitive\" if pred_labels.item() == 1 else \"not sensitive\"\n",
    "print(f\"predicted: {outcome}\")\n",
    "\n"
   ]
  },
  {
   "cell_type": "markdown",
   "id": "bae38333-5b7a-45f6-9f5f-8f8473bcefc5",
   "metadata": {},
   "source": [
    "# Save the model"
   ]
  },
  {
   "cell_type": "code",
   "execution_count": null,
   "id": "bfb8af06-454a-48c4-8f43-d738e1efca9d",
   "metadata": {},
   "outputs": [],
   "source": [
    "finetuned_bert.save(tokenizer, optimizers=True, path=current_save_model_path+\"_bert\")"
   ]
  },
  {
   "cell_type": "code",
   "execution_count": null,
   "id": "663ab7df-5c38-4e73-8982-05ce4fc2d98c",
   "metadata": {},
   "outputs": [],
   "source": [
    "solver.save(optimizers=True, path=current_save_model_path+\"_proto_net.pth\")"
   ]
  },
  {
   "cell_type": "code",
   "execution_count": null,
   "id": "7580e0c9-3381-4475-8d81-34b91b6d3b0c",
   "metadata": {},
   "outputs": [],
   "source": []
  }
 ],
 "metadata": {
  "kernelspec": {
   "display_name": "Python (Conda3.10)",
   "language": "python",
   "name": "conda3.10"
  },
  "language_info": {
   "codemirror_mode": {
    "name": "ipython",
    "version": 3
   },
   "file_extension": ".py",
   "mimetype": "text/x-python",
   "name": "python",
   "nbconvert_exporter": "python",
   "pygments_lexer": "ipython3",
   "version": "3.10.15"
  }
 },
 "nbformat": 4,
 "nbformat_minor": 5
}
