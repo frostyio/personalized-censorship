{
 "cells": [
  {
   "cell_type": "markdown",
   "id": "56cfb0a5-79c4-4cab-add7-782ce4a43d88",
   "metadata": {},
   "source": [
    "# Test the network from pretrained models"
   ]
  },
  {
   "cell_type": "code",
   "execution_count": null,
   "id": "8b541f3c-c27c-48e8-a07e-39588fbf5577",
   "metadata": {},
   "outputs": [],
   "source": [
    "%load_ext autoreload\n",
    "%autoreload 2\n",
    "\n",
    "import sys \n",
    "import os\n",
    "import torch\n",
    "sys.path.append(os.path.abspath(os.path.join(os.getcwd(), \"..\")))"
   ]
  },
  {
   "cell_type": "markdown",
   "id": "436aa23f-e853-43d1-8ad9-bfabcc977f4f",
   "metadata": {},
   "source": [
    "## Path to load the models"
   ]
  },
  {
   "cell_type": "code",
   "execution_count": null,
   "id": "2ae3db49-d2a1-44b5-9345-3f5ad2ea0cf3",
   "metadata": {},
   "outputs": [],
   "source": [
    "current_load_model_path = \"../models/version2\""
   ]
  },
  {
   "cell_type": "code",
   "execution_count": null,
   "id": "cffe5521-ce9c-4fdd-a70d-87fd3779fd3c",
   "metadata": {},
   "outputs": [],
   "source": [
    "device = torch.device(\"cuda\" if torch.cuda.is_available() else \"cpu\")\n",
    "print(f\"device: {device}\")"
   ]
  },
  {
   "cell_type": "code",
   "execution_count": null,
   "id": "6085a1d7-e2e2-4a1e-972d-b5ffdde54261",
   "metadata": {},
   "outputs": [],
   "source": [
    "from bert import FinetunedBert\n",
    "finetuned_bert = FinetunedBert(device=device)\n",
    "tokenizer = finetuned_bert.load(path=current_load_model_path+\"_bert\")\n",
    "finetuned_bert_model = finetuned_bert.model"
   ]
  },
  {
   "cell_type": "code",
   "execution_count": null,
   "id": "00849305-5ab4-4a40-b515-efaa97c912f2",
   "metadata": {},
   "outputs": [],
   "source": [
    "from utils import EmbedUserInput\n",
    "EmbedWrapper = lambda X: EmbedUserInput(tokenizer, finetuned_bert_model, X, device=device)"
   ]
  },
  {
   "cell_type": "code",
   "execution_count": null,
   "id": "2fec5224-b88e-41f2-bf6e-98e576e431af",
   "metadata": {},
   "outputs": [],
   "source": [
    "from model import PrototypicalNetwork\n",
    "from solver import Solver"
   ]
  },
  {
   "cell_type": "code",
   "execution_count": null,
   "id": "bdf73da1-4b66-4c8c-b1c0-52f32343c431",
   "metadata": {},
   "outputs": [],
   "source": [
    "n_way = 2\n",
    "proto_net = PrototypicalNetwork()\n",
    "solver = Solver(proto_net, n_way=n_way, device=device)\n",
    "solver.load(path=current_load_model_path+\"_proto_net.pth\")"
   ]
  },
  {
   "cell_type": "markdown",
   "id": "1c9cefaa-cfba-4690-8b2d-0c79f2131068",
   "metadata": {},
   "source": [
    "## Your support set"
   ]
  },
  {
   "cell_type": "code",
   "execution_count": null,
   "id": "e98c1bdf-3816-4a2a-9830-85e586c8c537",
   "metadata": {},
   "outputs": [],
   "source": [
    "support = [\"You are beautiful.\", \"People with hair are weird.\"]\n",
    "labels = torch.tensor([1, 0]) # 1 = offensive, 0 = not offensive\n",
    "embedded_support = EmbedWrapper(support)"
   ]
  },
  {
   "cell_type": "markdown",
   "id": "4511fe9d-a52c-4356-8f2b-747a973ca6c5",
   "metadata": {},
   "source": [
    "## Your input query"
   ]
  },
  {
   "cell_type": "code",
   "execution_count": null,
   "id": "81296682-e11f-457e-88ed-91b46ac31652",
   "metadata": {},
   "outputs": [],
   "source": [
    "query = [\"you is cool\"]\n",
    "\n",
    "pred_labels = solver.predict(embedded_support, labels, EmbedWrapper(query))\n",
    "outcome = \"offensive\" if pred_labels.item() == 1 else \"not offensive\"\n",
    "print(f\"predicted: {outcome}\")\n"
   ]
  },
  {
   "cell_type": "code",
   "execution_count": null,
   "id": "32497ca2-80d6-4d82-9881-493036b42366",
   "metadata": {},
   "outputs": [],
   "source": []
  }
 ],
 "metadata": {
  "kernelspec": {
   "display_name": "Python (Conda3.10)",
   "language": "python",
   "name": "conda3.10"
  },
  "language_info": {
   "codemirror_mode": {
    "name": "ipython",
    "version": 3
   },
   "file_extension": ".py",
   "mimetype": "text/x-python",
   "name": "python",
   "nbconvert_exporter": "python",
   "pygments_lexer": "ipython3",
   "version": "3.10.15"
  }
 },
 "nbformat": 4,
 "nbformat_minor": 5
}
